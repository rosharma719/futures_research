{
 "cells": [
  {
   "cell_type": "code",
   "execution_count": 15,
   "metadata": {},
   "outputs": [
    {
     "name": "stdout",
     "output_type": "stream",
     "text": [
      "0       2009-11-30 20:29:00\n",
      "1       2009-12-01 19:36:00\n",
      "2       2009-12-01 19:37:00\n",
      "3       2009-12-01 19:39:00\n",
      "4       2009-12-02 11:41:00\n",
      "               ...         \n",
      "4965    2023-11-10 02:35:00\n",
      "4966    2023-11-10 02:38:00\n",
      "4967    2023-11-10 10:00:00\n",
      "4968    2023-11-10 10:09:00\n",
      "4969    2023-11-10 12:23:00\n",
      "Name: 0, Length: 4970, dtype: object\n"
     ]
    }
   ],
   "source": [
    "#Packages\n",
    "import pandas as pd\n",
    "import numpy as np \n",
    "from talib import abstract\n",
    "from talib.abstract import *\n",
    "import sklearn \n",
    "from sklearn.model_selection import train_test_split\n",
    "from sklearn.metrics import accuracy_score\n",
    "from sklearn.metrics import precision_score, recall_score\n",
    "from sklearn.metrics import f1_score\n",
    "from sklearn.ensemble import GradientBoostingClassifier\n",
    "\n",
    "\n",
    "\n",
    "df = pd.read_csv(\"D:\\\\RA_stock_prediction\\\\RA_stock_prediction\\\\data\\\\futures_full_1min_continuous_adjusted_kzvua9e\\\\KRW_1min_continuous_adjusted.txt\", sep=',', header = None)\n",
    "print(df[0])"
   ]
  },
  {
   "cell_type": "code",
   "execution_count": 16,
   "metadata": {},
   "outputs": [],
   "source": [
    "#Setting inputs \n",
    "inputs = {\n",
    "    \"open\": df[1], \n",
    "    \"high\": df[2], \n",
    "    'low': df[3], \n",
    "    'close': df[4],\n",
    "    'volume': df[5]\n",
    "}\n",
    "\n",
    "signals = pd.DataFrame(index=df.index)\n",
    "\n",
    "# Calculating indicators\n",
    "signals['EMA10'] = abstract.EMA(inputs, timeperiod=10)\n",
    "signals['SMA30'] = abstract.SMA(inputs, timeperiod=30)\n",
    "signals['MACD'], signals['MACD_signal'], _ = abstract.MACD(inputs, fastperiod=12, slowperiod=26, signalperiod=9)\n",
    "signals['upper_band'], signals['middle_band'], signals['lower_band'] = abstract.BBANDS(inputs, timeperiod=20, nbdevup=1.0, nbdevdn=1.0, matype=0)\n",
    "signals['RSI'] = abstract.RSI(inputs, timeperiod=14)\n",
    "signals['ROC'] = abstract.ROC(inputs, timeperiod=10)\n",
    "signals['VOL'] = df[4]\n",
    "signals['ADX'] = abstract.ADX(inputs, timeperiod=14)\n",
    "signals['ATR'] = abstract.ATR(inputs, timeperiod=14)\n",
    "signals['CMO'] = abstract.CMO(inputs, timeperiod=14)\n",
    "signals['OBV'] = abstract.OBV(inputs['close'], inputs['volume'])\n",
    "signals['WILLR'] = abstract.WILLR(inputs, timeperiod=14)\n",
    "signals['CCI'] = abstract.CCI(inputs, timeperiod=14)\n",
    "signals['MFI'] = abstract.MFI(inputs, timeperiod=14)\n",
    "signals['PPO'] = abstract.PPO(inputs, fastperiod=12, slowperiod=26, matype=0)\n",
    "signals['ULTOSC'] = abstract.ULTOSC(inputs, timeperiod1=7, timeperiod2=14, timeperiod3=28)\n",
    "signals['CMF'] = abstract.ADOSC(inputs, fastperiod=3, slowperiod=10)\n",
    "signals['SAR'] = abstract.SAR(inputs, acceleration=0.02, maximum=0.2)\n",
    "signals['slowk'], signals['slowd'] = abstract.STOCH(inputs, fastk_period=5, slowk_period=3, slowk_matype=0, slowd_period=3, slowd_matype=0)\n",
    "signals['APO'] = abstract.APO(inputs, fastperiod=12, slowperiod=26)\n",
    "signals['AROON_down'], signals['AROON_up'] = abstract.AROON(inputs, timeperiod=14)\n",
    "signals['DEMA'] = abstract.DEMA(inputs, timeperiod=30)\n",
    "signals['HT_TRENDLINE'] = abstract.HT_TRENDLINE(inputs)\n",
    "signals['KAMA'] = abstract.KAMA(inputs, timeperiod=30)\n",
    "signals['MOM'] = abstract.MOM(inputs, timeperiod=10)\n",
    "signals['TEMA'] = abstract.TEMA(inputs, timeperiod=30)\n",
    "signals['TRIX'] = abstract.TRIX(inputs, timeperiod=15)\n",
    "\n",
    "\n",
    "EMA20 = abstract.EMA(inputs, timeperiod=20)\n",
    "ATR10 = abstract.ATR(inputs, timeperiod=10)\n",
    "signals['KC_upper'] = EMA20 + (ATR10 * 2)\n",
    "signals['KC_middle'] = EMA20\n",
    "signals['KC_lower'] = EMA20 - (ATR10 * 2)\n"
   ]
  },
  {
   "cell_type": "code",
   "execution_count": 17,
   "metadata": {},
   "outputs": [
    {
     "name": "stdout",
     "output_type": "stream",
     "text": [
      "Number of 'buy' signals: 2863/4970\n"
     ]
    }
   ],
   "source": [
    "# Calculate the 2-hour (120 minutes) rolling maximum of the 'close' price\n",
    "signals['2hr_max_close'] = df[3].rolling(window=120, min_periods=1).max().shift(-120)\n",
    "\n",
    "# Define the threshold for the price increase \n",
    "price_increase_threshold = 1.01  \n",
    "signals['target'] = (signals['2hr_max_close'] >= df[3] * price_increase_threshold).astype(int)\n",
    "\n",
    "num_buy_signals = signals['target'].sum()\n",
    "print(f\"Number of 'buy' signals: {int(num_buy_signals)}/{int(len(df))}\")\n",
    "\n",
    "\n",
    "# Drop rows with NaN values\n",
    "clean_signals = signals.dropna()\n",
    "\n",
    "\n",
    "# Split data into features and target\n",
    "X = clean_signals[['EMA10', 'SMA30', 'MACD', 'MACD_signal', 'upper_band', 'middle_band', 'lower_band', 'RSI', 'ROC', 'VOL', 'ADX', 'ATR', 'CMO', 'OBV', 'WILLR', 'CCI', \"MFI\", \"PPO\", \"ULTOSC\", \"CMF\", \"SAR\", \"slowk\", \"APO\", \"AROON_down\", \"DEMA\", \"HT_TRENDLINE\", \"KAMA\", \"MOM\", \"TEMA\", \"TRIX\", \"KC_upper\", \"KC_middle\", \"KC_lower\"]]\n",
    "y = clean_signals['target']\n",
    "\n"
   ]
  },
  {
   "cell_type": "code",
   "execution_count": 18,
   "metadata": {},
   "outputs": [],
   "source": [
    "# add , random_state=42 for a seed\n",
    "X_train, X_test, y_train, y_test = train_test_split(X, y, train_size=0.5, test_size=0.5, random_state = 42)"
   ]
  },
  {
   "cell_type": "code",
   "execution_count": 19,
   "metadata": {},
   "outputs": [
    {
     "name": "stderr",
     "output_type": "stream",
     "text": [
      "c:\\Users\\kragg\\AppData\\Local\\Programs\\Python\\Python310\\lib\\site-packages\\sklearn\\utils\\validation.py:757: FutureWarning: is_sparse is deprecated and will be removed in a future version. Check `isinstance(dtype, pd.SparseDtype)` instead.\n",
      "  if not hasattr(array, \"sparse\") and array.dtypes.apply(is_sparse).any():\n",
      "c:\\Users\\kragg\\AppData\\Local\\Programs\\Python\\Python310\\lib\\site-packages\\sklearn\\utils\\validation.py:595: FutureWarning: is_sparse is deprecated and will be removed in a future version. Check `isinstance(dtype, pd.SparseDtype)` instead.\n",
      "  if is_sparse(pd_dtype):\n",
      "c:\\Users\\kragg\\AppData\\Local\\Programs\\Python\\Python310\\lib\\site-packages\\sklearn\\utils\\validation.py:604: FutureWarning: is_sparse is deprecated and will be removed in a future version. Check `isinstance(dtype, pd.SparseDtype)` instead.\n",
      "  if is_sparse(pd_dtype) or not is_extension_array_dtype(pd_dtype):\n",
      "c:\\Users\\kragg\\AppData\\Local\\Programs\\Python\\Python310\\lib\\site-packages\\sklearn\\utils\\validation.py:757: FutureWarning: is_sparse is deprecated and will be removed in a future version. Check `isinstance(dtype, pd.SparseDtype)` instead.\n",
      "  if not hasattr(array, \"sparse\") and array.dtypes.apply(is_sparse).any():\n",
      "c:\\Users\\kragg\\AppData\\Local\\Programs\\Python\\Python310\\lib\\site-packages\\sklearn\\utils\\validation.py:595: FutureWarning: is_sparse is deprecated and will be removed in a future version. Check `isinstance(dtype, pd.SparseDtype)` instead.\n",
      "  if is_sparse(pd_dtype):\n",
      "c:\\Users\\kragg\\AppData\\Local\\Programs\\Python\\Python310\\lib\\site-packages\\sklearn\\utils\\validation.py:604: FutureWarning: is_sparse is deprecated and will be removed in a future version. Check `isinstance(dtype, pd.SparseDtype)` instead.\n",
      "  if is_sparse(pd_dtype) or not is_extension_array_dtype(pd_dtype):\n"
     ]
    }
   ],
   "source": [
    "# Initialize and train the classifier\n",
    "\n",
    "clf = GradientBoostingClassifier()\n",
    "clf.fit(X_train, y_train)\n",
    "predictions = clf.predict(X_test)\n",
    "\n"
   ]
  },
  {
   "cell_type": "code",
   "execution_count": 20,
   "metadata": {},
   "outputs": [
    {
     "name": "stdout",
     "output_type": "stream",
     "text": [
      "0.024143069553993136\n",
      "EMA10\n",
      "0.024096084525280913\n",
      "SMA30\n",
      "0.01224834366466851\n",
      "MACD\n",
      "0.013829440962933743\n",
      "MACD_signal\n",
      "0.00182695895792584\n",
      "upper_band\n",
      "0.0003515362727341547\n",
      "middle_band\n",
      "0.000534025578788382\n",
      "lower_band\n",
      "0.01228902016500716\n",
      "RSI\n",
      "0.009349544277505046\n",
      "ROC\n",
      "0.11272385561458112\n",
      "VOL\n",
      "0.06568039041987991\n",
      "ADX\n",
      "0.019283235903402297\n",
      "ATR\n",
      "0.012332799130071787\n",
      "CMO\n",
      "0.22727092885979627\n",
      "OBV\n",
      "0.00167442640313823\n",
      "WILLR\n",
      "0.009002630490171706\n",
      "CCI\n",
      "0.0\n",
      "MFI\n",
      "0.01646042229525873\n",
      "PPO\n",
      "0.014569220477109363\n",
      "ULTOSC\n",
      "0.05951708829767075\n",
      "CMF\n",
      "0.009828320823148324\n",
      "SAR\n",
      "0.005991863212329193\n",
      "slowk\n",
      "0.0\n",
      "slowd\n",
      "0.0006134215354356189\n",
      "APO\n",
      "0.04852040280400824\n",
      "AROON_down\n",
      "0.005480954222568549\n",
      "AROON_up\n",
      "0.1586071573377878\n",
      "DEMA\n",
      "0.006249712141050882\n",
      "HT_TRENDLINE\n",
      "0.003389588823711701\n",
      "KAMA\n",
      "0.03816109023229565\n",
      "MOM\n",
      "0.025198480442059\n",
      "TEMA\n",
      "0.014766046846269277\n",
      "TRIX\n",
      "0.04600993972941863\n",
      "KC_upper\n"
     ]
    }
   ],
   "source": [
    "\n",
    "for x in range(len(clf.feature_importances_)): \n",
    "    print(clf.feature_importances_[x])\n",
    "    print(signals.columns[x])\n",
    "    \n",
    "    \n"
   ]
  },
  {
   "cell_type": "code",
   "execution_count": 21,
   "metadata": {},
   "outputs": [
    {
     "name": "stdout",
     "output_type": "stream",
     "text": [
      "Gradient Boosting Classifier Results\n",
      "F1 Score: 0.8686455134766291\n",
      "Precision: 0.8314826910516002\n",
      "Recall: 0.9092857142857143\n",
      "Accuracy: 0.8383711167086482\n"
     ]
    }
   ],
   "source": [
    "\n",
    "#Testing \n",
    "f1 = f1_score(y_test, predictions)\n",
    "precision = precision_score(y_test, predictions)\n",
    "recall = recall_score(y_test, predictions)\n",
    "accuracy = accuracy_score(y_test, predictions)\n",
    "\n",
    "print(\"Gradient Boosting Classifier Results\")\n",
    "print(f\"F1 Score: {f1}\")\n",
    "print(f\"Precision: {precision}\")\n",
    "print(f\"Recall: {recall}\")\n",
    "print(f\"Accuracy: {accuracy}\")"
   ]
  },
  {
   "cell_type": "code",
   "execution_count": 22,
   "metadata": {},
   "outputs": [
    {
     "name": "stdout",
     "output_type": "stream",
     "text": [
      "Random Test Results:\n",
      "F1 Score: 0.5427480916030535\n",
      "Precision: 0.5827868852459016\n",
      "Recall: 0.5078571428571429\n",
      "Accuracy: 0.49706129303106633\n"
     ]
    }
   ],
   "source": [
    "random_predictions = np.random.randint(2, size=len(y_test))\n",
    "\n",
    "# Evaluate the random model\n",
    "f1 = f1_score(y_test, random_predictions)\n",
    "precision = precision_score(y_test, random_predictions)\n",
    "recall = recall_score(y_test, random_predictions)\n",
    "accuracy = accuracy_score(y_test, random_predictions)\n",
    "\n",
    "print(f\"Random Test Results:\")\n",
    "print(f\"F1 Score: {f1}\")\n",
    "print(f\"Precision: {precision}\")\n",
    "print(f\"Recall: {recall}\")\n",
    "print(f\"Accuracy: {accuracy}\")\n"
   ]
  }
 ],
 "metadata": {
  "kernelspec": {
   "display_name": "Python 3",
   "language": "python",
   "name": "python3"
  },
  "language_info": {
   "codemirror_mode": {
    "name": "ipython",
    "version": 3
   },
   "file_extension": ".py",
   "mimetype": "text/x-python",
   "name": "python",
   "nbconvert_exporter": "python",
   "pygments_lexer": "ipython3",
   "version": "3.10.2"
  }
 },
 "nbformat": 4,
 "nbformat_minor": 2
}
